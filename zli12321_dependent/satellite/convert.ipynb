{
 "cells": [
  {
   "cell_type": "code",
   "execution_count": 53,
   "id": "4aac737e",
   "metadata": {},
   "outputs": [],
   "source": [
    "filename1 = './sat_pddl_problems/size1/problem0.pddl'\n",
    "f = open(filename1, \"r\", encoding=\"utf-8\")\n",
    "lines = f.read()"
   ]
  },
  {
   "cell_type": "code",
   "execution_count": 54,
   "id": "ed0f03f4",
   "metadata": {},
   "outputs": [
    {
     "name": "stdout",
     "output_type": "stream",
     "text": [
      "(define (problem strips-sat-x-1)\n",
      "\n"
     ]
    }
   ],
   "source": [
    "data = lines.split('\\n')\n",
    "print(data[0])\n",
    "print(data[-1])"
   ]
  },
  {
   "cell_type": "code",
   "execution_count": 55,
   "id": "ac72d33f",
   "metadata": {},
   "outputs": [],
   "source": [
    "import re\n",
    "objects, init, goal = [], [], []\n",
    "collect_obj, collect_init, collect_goal = False, False, False\n",
    "satellite, instrument, mode, direction = set(), set(), set(), set()\n",
    "supports, calibration, on_board, power_avail, pointing = {}, {}, {}, [], {}\n",
    "goal = []\n",
    "for ele in data:\n",
    "    if collect_obj:\n",
    "        if 'satellite' in ele:\n",
    "            curr = ele.replace('\\t', '')\n",
    "            curr = curr.replace(' ', '')\n",
    "            obj = curr.split('-')\n",
    "            satellite.add(obj[0])\n",
    "        \n",
    "        if 'mode' in ele:\n",
    "            curr = ele.replace('\\t', '')\n",
    "            curr = curr.replace(' ', '')\n",
    "            obj = curr.split('-')\n",
    "            mode.add(obj[0])\n",
    "            \n",
    "        if 'instrument' in ele:\n",
    "            curr = ele.replace('\\t', '')\n",
    "            curr = curr.replace(' ', '')\n",
    "            obj = curr.split('-')\n",
    "            instrument.add(obj[0])\n",
    "            \n",
    "        if 'direction' in ele:\n",
    "            curr = ele.replace('\\t', '')\n",
    "            curr = curr.replace(' ', '')\n",
    "            obj = curr.split('-')\n",
    "            direction.add(obj[0])\n",
    "    \n",
    "    if collect_init:\n",
    "        curr = ele.replace('(', '')\n",
    "        curr = curr.replace(')', '')\n",
    "        curr = curr.replace('\\t', '')\n",
    "        objs = curr.split(' ')\n",
    "        \n",
    "        if 'supports' in ele:\n",
    "            supports[objs[1]] = objs[2]\n",
    "        elif 'calibration_target' in ele:\n",
    "            calibration[objs[1]] = objs[2]\n",
    "        elif 'on_board' in ele:\n",
    "            on_board[objs[1]] = objs[2]\n",
    "        elif 'power_avail' in ele:\n",
    "            power_avail.append(objs[1])\n",
    "        elif 'pointing' in ele:\n",
    "            pointing[objs[1]] = objs[2]\n",
    "    \n",
    "    if collect_goal:\n",
    "        curr = ele.replace('(', '')\n",
    "        curr = curr.replace(')', '')\n",
    "        curr = curr.replace('\\t', '')\n",
    "        # print(len(curr))\n",
    "        if len(curr) != 0:\n",
    "            objs = curr.split(' ')\n",
    "            # print(objs)\n",
    "            goal.append((objs[0], objs[1], objs[2]))\n",
    "            \n",
    "            \n",
    "    if ':objects' in ele:\n",
    "        collect_obj = True\n",
    "        \n",
    "    if ':init' in ele:\n",
    "        collect_obj =False\n",
    "        collect_init = True\n",
    "    \n",
    "    if ':goal' in ele:\n",
    "        collect_init = False\n",
    "        collect_goal = True"
   ]
  },
  {
   "cell_type": "code",
   "execution_count": 56,
   "id": "c75aeb14",
   "metadata": {},
   "outputs": [
    {
     "data": {
      "text/plain": [
       "['satellite0',\n",
       " 'satellite1',\n",
       " 'satellite2',\n",
       " 'satellite3',\n",
       " 'satellite4',\n",
       " 'satellite5',\n",
       " 'satellite6',\n",
       " 'satellite7',\n",
       " 'satellite8',\n",
       " 'satellite9']"
      ]
     },
     "execution_count": 56,
     "metadata": {},
     "output_type": "execute_result"
    }
   ],
   "source": [
    "# supports, calibration, on_board, power_avail, pointing = {}, {}, {}, [], {}\n",
    "power_avail"
   ]
  },
  {
   "cell_type": "code",
   "execution_count": 57,
   "id": "48349b01",
   "metadata": {},
   "outputs": [],
   "source": [
    "import hgn_pyhop, satellite_domain\n",
    "state = hgn_pyhop.State('state')"
   ]
  },
  {
   "cell_type": "code",
   "execution_count": 58,
   "id": "481e01ac",
   "metadata": {},
   "outputs": [],
   "source": [
    "state.satellites = satellite\n",
    "state.instruments = instrument\n",
    "state.modes = mode\n",
    "state.directions = direction"
   ]
  },
  {
   "cell_type": "code",
   "execution_count": 59,
   "id": "391f941b",
   "metadata": {},
   "outputs": [],
   "source": [
    "# supports, calibration, on_board, power_avail, pointing\n",
    "state.power_avail = {i: True for i in power_avail}\n",
    "state.pointing = pointing\n",
    "state.on_board = on_board\n",
    "state.supports = supports\n",
    "state.calibration_target = calibration\n",
    "state.power_on = {i: False for i in instrument}\n",
    "state.calibrated = {i: False for i in instrument}\n",
    "state.have_image = {i: '' for i in direction}"
   ]
  },
  {
   "cell_type": "code",
   "execution_count": 60,
   "id": "b2c5c1f2",
   "metadata": {},
   "outputs": [
    {
     "name": "stdout",
     "output_type": "stream",
     "text": [
      "** hgn_pyhop, verbose=1 **\n",
      "   state = state\n",
      "   goals = [('pointing', 'satellite1', 'Phenomenon2'), ('pointing', 'satellite3', 'Phenomenon1'), ('pointing', 'satellite9', 'Phenomenon2'), ('have_image', 'Phenomenon1', 'infrared1'), ('have_image', 'Phenomenon2', 'image0')]\n",
      "** result = [('turn_to', 'satellite1', 'Phenomenon2'), ('turn_to', 'satellite9', 'Phenomenon2'), ('switch_on', 'instrument1', True), ('turn_to', 'satellite0', 'Star0'), ('calibrate', 'instrument1', True), ('turn_to', 'satellite0', 'Phenomenon1'), ('take_image', 'Phenomenon1', 'infrared1'), ('switch_on', 'instrument27', True), ('turn_to', 'satellite3', 'Star0'), ('calibrate', 'instrument27', True), ('turn_to', 'satellite3', 'Phenomenon2'), ('take_image', 'Phenomenon2', 'image0')] \n",
      "\n",
      "0.012434959411621094\n"
     ]
    }
   ],
   "source": [
    "import time\n",
    "start = time.time()\n",
    "result = hgn_pyhop.pyhop(state, goal, verbose=1)\n",
    "end = time.time()\n",
    "print(end-start)"
   ]
  },
  {
   "cell_type": "code",
   "execution_count": 61,
   "id": "1c5ae579",
   "metadata": {},
   "outputs": [
    {
     "data": {
      "text/plain": [
       "12"
      ]
     },
     "execution_count": 61,
     "metadata": {},
     "output_type": "execute_result"
    }
   ],
   "source": [
    "len(result)"
   ]
  },
  {
   "cell_type": "code",
   "execution_count": null,
   "id": "72c02c2a",
   "metadata": {},
   "outputs": [],
   "source": []
  }
 ],
 "metadata": {
  "kernelspec": {
   "display_name": "Python 3 (ipykernel)",
   "language": "python",
   "name": "python3"
  },
  "language_info": {
   "codemirror_mode": {
    "name": "ipython",
    "version": 3
   },
   "file_extension": ".py",
   "mimetype": "text/x-python",
   "name": "python",
   "nbconvert_exporter": "python",
   "pygments_lexer": "ipython3",
   "version": "3.9.13"
  }
 },
 "nbformat": 4,
 "nbformat_minor": 5
}
